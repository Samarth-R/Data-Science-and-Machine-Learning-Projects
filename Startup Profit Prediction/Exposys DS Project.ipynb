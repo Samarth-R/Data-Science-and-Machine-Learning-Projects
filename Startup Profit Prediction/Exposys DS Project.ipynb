{
 "cells": [
  {
   "cell_type": "markdown",
   "id": "a22d74bd",
   "metadata": {},
   "source": [
    "# Exposys Data Labs Data Science Project"
   ]
  },
  {
   "cell_type": "markdown",
   "id": "9f77475f",
   "metadata": {},
   "source": [
    "In the given dataset, R&D Spend, Administration Cost and Marketing Spend of 50 Companies\n",
    "are given along with the profit earned. The target is to prepare an ML model which can predict\n",
    "the profit value of a company if the value of its R&D Spend, Administration Cost and Marketing\n",
    "Spend are given."
   ]
  },
  {
   "cell_type": "markdown",
   "id": "069ff3e0",
   "metadata": {},
   "source": [
    "i) Construct Different Regression algorithms"
   ]
  },
  {
   "cell_type": "markdown",
   "id": "f0e311b8",
   "metadata": {},
   "source": [
    "ii) Divide the data into train set and test set"
   ]
  },
  {
   "cell_type": "markdown",
   "id": "8fd00704",
   "metadata": {},
   "source": [
    "iii) Calculate different regression metrics"
   ]
  },
  {
   "cell_type": "markdown",
   "id": "e400c7de",
   "metadata": {},
   "source": [
    "iv) Choose the best model"
   ]
  },
  {
   "cell_type": "markdown",
   "id": "117be325",
   "metadata": {},
   "source": [
    "### Importing Required Libraries"
   ]
  },
  {
   "cell_type": "code",
   "execution_count": 1,
   "id": "0bdaebbb",
   "metadata": {
    "scrolled": false
   },
   "outputs": [],
   "source": [
    "import pandas as pd\n",
    "import numpy as np\n",
    "import matplotlib.pyplot as plt\n",
    "import seaborn as sns\n",
    "%matplotlib inline"
   ]
  },
  {
   "cell_type": "code",
   "execution_count": 2,
   "id": "0ce8e95c",
   "metadata": {
    "scrolled": false
   },
   "outputs": [],
   "source": [
    "import warnings\n",
    "warnings.filterwarnings(\"ignore\")"
   ]
  },
  {
   "cell_type": "markdown",
   "id": "25a7ce04",
   "metadata": {},
   "source": [
    "#### Import Dataset with pandas"
   ]
  },
  {
   "cell_type": "code",
   "execution_count": 3,
   "id": "3aa818af",
   "metadata": {
    "scrolled": false
   },
   "outputs": [],
   "source": [
    "df = pd.read_csv('50_Startups.csv')"
   ]
  },
  {
   "cell_type": "code",
   "execution_count": 4,
   "id": "35e306fd",
   "metadata": {
    "scrolled": false
   },
   "outputs": [
    {
     "data": {
      "text/html": [
       "<div>\n",
       "<style scoped>\n",
       "    .dataframe tbody tr th:only-of-type {\n",
       "        vertical-align: middle;\n",
       "    }\n",
       "\n",
       "    .dataframe tbody tr th {\n",
       "        vertical-align: top;\n",
       "    }\n",
       "\n",
       "    .dataframe thead th {\n",
       "        text-align: right;\n",
       "    }\n",
       "</style>\n",
       "<table border=\"1\" class=\"dataframe\">\n",
       "  <thead>\n",
       "    <tr style=\"text-align: right;\">\n",
       "      <th></th>\n",
       "      <th>R&amp;D Spend</th>\n",
       "      <th>Administration</th>\n",
       "      <th>Marketing Spend</th>\n",
       "      <th>Profit</th>\n",
       "    </tr>\n",
       "  </thead>\n",
       "  <tbody>\n",
       "    <tr>\n",
       "      <th>0</th>\n",
       "      <td>165349.20</td>\n",
       "      <td>136897.80</td>\n",
       "      <td>471784.10</td>\n",
       "      <td>192261.83</td>\n",
       "    </tr>\n",
       "    <tr>\n",
       "      <th>1</th>\n",
       "      <td>162597.70</td>\n",
       "      <td>151377.59</td>\n",
       "      <td>443898.53</td>\n",
       "      <td>191792.06</td>\n",
       "    </tr>\n",
       "    <tr>\n",
       "      <th>2</th>\n",
       "      <td>153441.51</td>\n",
       "      <td>101145.55</td>\n",
       "      <td>407934.54</td>\n",
       "      <td>191050.39</td>\n",
       "    </tr>\n",
       "    <tr>\n",
       "      <th>3</th>\n",
       "      <td>144372.41</td>\n",
       "      <td>118671.85</td>\n",
       "      <td>383199.62</td>\n",
       "      <td>182901.99</td>\n",
       "    </tr>\n",
       "    <tr>\n",
       "      <th>4</th>\n",
       "      <td>142107.34</td>\n",
       "      <td>91391.77</td>\n",
       "      <td>366168.42</td>\n",
       "      <td>166187.94</td>\n",
       "    </tr>\n",
       "  </tbody>\n",
       "</table>\n",
       "</div>"
      ],
      "text/plain": [
       "   R&D Spend  Administration  Marketing Spend     Profit\n",
       "0  165349.20       136897.80        471784.10  192261.83\n",
       "1  162597.70       151377.59        443898.53  191792.06\n",
       "2  153441.51       101145.55        407934.54  191050.39\n",
       "3  144372.41       118671.85        383199.62  182901.99\n",
       "4  142107.34        91391.77        366168.42  166187.94"
      ]
     },
     "execution_count": 4,
     "metadata": {},
     "output_type": "execute_result"
    }
   ],
   "source": [
    "df.head()"
   ]
  },
  {
   "cell_type": "code",
   "execution_count": 5,
   "id": "13b890ea",
   "metadata": {
    "scrolled": false
   },
   "outputs": [
    {
     "name": "stdout",
     "output_type": "stream",
     "text": [
      "<class 'pandas.core.frame.DataFrame'>\n",
      "RangeIndex: 50 entries, 0 to 49\n",
      "Data columns (total 4 columns):\n",
      " #   Column           Non-Null Count  Dtype  \n",
      "---  ------           --------------  -----  \n",
      " 0   R&D Spend        50 non-null     float64\n",
      " 1   Administration   50 non-null     float64\n",
      " 2   Marketing Spend  50 non-null     float64\n",
      " 3   Profit           50 non-null     float64\n",
      "dtypes: float64(4)\n",
      "memory usage: 1.7 KB\n"
     ]
    }
   ],
   "source": [
    "# Some information about the data\n",
    "df.info()"
   ]
  },
  {
   "cell_type": "code",
   "execution_count": 6,
   "id": "7454924a",
   "metadata": {
    "scrolled": false
   },
   "outputs": [
    {
     "data": {
      "text/html": [
       "<div>\n",
       "<style scoped>\n",
       "    .dataframe tbody tr th:only-of-type {\n",
       "        vertical-align: middle;\n",
       "    }\n",
       "\n",
       "    .dataframe tbody tr th {\n",
       "        vertical-align: top;\n",
       "    }\n",
       "\n",
       "    .dataframe thead th {\n",
       "        text-align: right;\n",
       "    }\n",
       "</style>\n",
       "<table border=\"1\" class=\"dataframe\">\n",
       "  <thead>\n",
       "    <tr style=\"text-align: right;\">\n",
       "      <th></th>\n",
       "      <th>R&amp;D Spend</th>\n",
       "      <th>Administration</th>\n",
       "      <th>Marketing Spend</th>\n",
       "      <th>Profit</th>\n",
       "    </tr>\n",
       "  </thead>\n",
       "  <tbody>\n",
       "    <tr>\n",
       "      <th>count</th>\n",
       "      <td>50.000000</td>\n",
       "      <td>50.000000</td>\n",
       "      <td>50.000000</td>\n",
       "      <td>50.000000</td>\n",
       "    </tr>\n",
       "    <tr>\n",
       "      <th>mean</th>\n",
       "      <td>73721.615600</td>\n",
       "      <td>121344.639600</td>\n",
       "      <td>211025.097800</td>\n",
       "      <td>112012.639200</td>\n",
       "    </tr>\n",
       "    <tr>\n",
       "      <th>std</th>\n",
       "      <td>45902.256482</td>\n",
       "      <td>28017.802755</td>\n",
       "      <td>122290.310726</td>\n",
       "      <td>40306.180338</td>\n",
       "    </tr>\n",
       "    <tr>\n",
       "      <th>min</th>\n",
       "      <td>0.000000</td>\n",
       "      <td>51283.140000</td>\n",
       "      <td>0.000000</td>\n",
       "      <td>14681.400000</td>\n",
       "    </tr>\n",
       "    <tr>\n",
       "      <th>25%</th>\n",
       "      <td>39936.370000</td>\n",
       "      <td>103730.875000</td>\n",
       "      <td>129300.132500</td>\n",
       "      <td>90138.902500</td>\n",
       "    </tr>\n",
       "    <tr>\n",
       "      <th>50%</th>\n",
       "      <td>73051.080000</td>\n",
       "      <td>122699.795000</td>\n",
       "      <td>212716.240000</td>\n",
       "      <td>107978.190000</td>\n",
       "    </tr>\n",
       "    <tr>\n",
       "      <th>75%</th>\n",
       "      <td>101602.800000</td>\n",
       "      <td>144842.180000</td>\n",
       "      <td>299469.085000</td>\n",
       "      <td>139765.977500</td>\n",
       "    </tr>\n",
       "    <tr>\n",
       "      <th>max</th>\n",
       "      <td>165349.200000</td>\n",
       "      <td>182645.560000</td>\n",
       "      <td>471784.100000</td>\n",
       "      <td>192261.830000</td>\n",
       "    </tr>\n",
       "  </tbody>\n",
       "</table>\n",
       "</div>"
      ],
      "text/plain": [
       "           R&D Spend  Administration  Marketing Spend         Profit\n",
       "count      50.000000       50.000000        50.000000      50.000000\n",
       "mean    73721.615600   121344.639600    211025.097800  112012.639200\n",
       "std     45902.256482    28017.802755    122290.310726   40306.180338\n",
       "min         0.000000    51283.140000         0.000000   14681.400000\n",
       "25%     39936.370000   103730.875000    129300.132500   90138.902500\n",
       "50%     73051.080000   122699.795000    212716.240000  107978.190000\n",
       "75%    101602.800000   144842.180000    299469.085000  139765.977500\n",
       "max    165349.200000   182645.560000    471784.100000  192261.830000"
      ]
     },
     "execution_count": 6,
     "metadata": {},
     "output_type": "execute_result"
    }
   ],
   "source": [
    "df.describe()"
   ]
  },
  {
   "cell_type": "code",
   "execution_count": 7,
   "id": "d649ff74",
   "metadata": {
    "scrolled": false
   },
   "outputs": [
    {
     "data": {
      "text/plain": [
       "R&D Spend          0\n",
       "Administration     0\n",
       "Marketing Spend    0\n",
       "Profit             0\n",
       "dtype: int64"
      ]
     },
     "execution_count": 7,
     "metadata": {},
     "output_type": "execute_result"
    }
   ],
   "source": [
    "#check if there are any missing values in the data\n",
    "df.isnull().sum()"
   ]
  },
  {
   "cell_type": "markdown",
   "id": "36315b1a",
   "metadata": {},
   "source": [
    "**There are no missing values**"
   ]
  },
  {
   "cell_type": "markdown",
   "id": "28c2e4ea",
   "metadata": {},
   "source": [
    "The data consists of 50 entries with 4 different fields - R&D Spend, Administration, Marketing Spend, and Profit"
   ]
  },
  {
   "cell_type": "markdown",
   "id": "4dc2012f",
   "metadata": {},
   "source": [
    "## Exploratory Data Analysis (EDA)"
   ]
  },
  {
   "cell_type": "markdown",
   "id": "d5d16965",
   "metadata": {},
   "source": [
    "#### Pairplot of the data"
   ]
  },
  {
   "cell_type": "code",
   "execution_count": 8,
   "id": "131d1c6d",
   "metadata": {},
   "outputs": [
    {
     "data": {
      "text/plain": [
       "<seaborn.axisgrid.PairGrid at 0x1a5d27e0af0>"
      ]
     },
     "execution_count": 8,
     "metadata": {},
     "output_type": "execute_result"
    },
    {
     "data": {
      "image/png": "[encoded data removed]",
      "text/plain": [
       "<Figure size 720x720 with 20 Axes>"
      ]
     },
     "metadata": {
      "needs_background": "light"
     },
     "output_type": "display_data"
    }
   ],
   "source": [
    "sns.pairplot(df)"
   ]
  },
  {
   "cell_type": "markdown",
   "id": "9c5e4744",
   "metadata": {},
   "source": [
    "#### Heatmap"
   ]
  },
  {
   "cell_type": "code",
   "execution_count": 9,
   "id": "57651f36",
   "metadata": {},
   "outputs": [
    {
     "data": {
      "text/plain": [
       "<AxesSubplot:>"
      ]
     },
     "execution_count": 9,
     "metadata": {},
     "output_type": "execute_result"
    },
    {
     "data": {
      "image/png": "[encoded data removed]",
      "text/plain": [
       "<Figure size 432x288 with 2 Axes>"
      ]
     },
     "metadata": {
      "needs_background": "light"
     },
     "output_type": "display_data"
    }
   ],
   "source": [
    "sns.heatmap(df.corr(),annot=True,cmap='coolwarm')"
   ]
  },
  {
   "cell_type": "markdown",
   "id": "f390bb04",
   "metadata": {},
   "source": [
    "### From the Heatmap and the Pairplot, we can see that there is high correlation between the 'R&D Spend' and 'Profit' features"
   ]
  },
  {
   "cell_type": "markdown",
   "id": "26002b17",
   "metadata": {},
   "source": [
    "#### Distribution Plot of the 'Profit' feature"
   ]
  },
  {
   "cell_type": "code",
   "execution_count": 10,
   "id": "63732ac8",
   "metadata": {
    "scrolled": false
   },
   "outputs": [
    {
     "data": {
      "text/plain": [
       "<AxesSubplot:xlabel='Profit', ylabel='Density'>"
      ]
     },
     "execution_count": 10,
     "metadata": {},
     "output_type": "execute_result"
    },
    {
     "data": {
      "image/png": "[encoded data removed]",
      "text/plain": [
       "<Figure size 432x288 with 1 Axes>"
      ]
     },
     "metadata": {
      "needs_background": "light"
     },
     "output_type": "display_data"
    }
   ],
   "source": [
    "sns.distplot(df['Profit'])"
   ]
  },
  {
   "cell_type": "markdown",
   "id": "583d6bac",
   "metadata": {},
   "source": [
    "The average profit (which is 100k) is the most frequent"
   ]
  },
  {
   "cell_type": "markdown",
   "id": "9ec80227",
   "metadata": {},
   "source": [
    "#### Distribution Plot of the 'R&D Spend' feature"
   ]
  },
  {
   "cell_type": "code",
   "execution_count": 11,
   "id": "6f0d4271",
   "metadata": {
    "scrolled": false
   },
   "outputs": [
    {
     "data": {
      "text/plain": [
       "<AxesSubplot:xlabel='R&D Spend', ylabel='Density'>"
      ]
     },
     "execution_count": 11,
     "metadata": {},
     "output_type": "execute_result"
    },
    {
     "data": {
      "image/png": "[encoded data removed]",
      "text/plain": [
       "<Figure size 432x288 with 1 Axes>"
      ]
     },
     "metadata": {
      "needs_background": "light"
     },
     "output_type": "display_data"
    }
   ],
   "source": [
    "sns.distplot(df['R&D Spend'])"
   ]
  },
  {
   "cell_type": "markdown",
   "id": "aa27868b",
   "metadata": {},
   "source": [
    "## Splitting data into Train and Test sets and Normalizing them"
   ]
  },
  {
   "cell_type": "code",
   "execution_count": 12,
   "id": "f8c7ed46",
   "metadata": {
    "scrolled": false
   },
   "outputs": [],
   "source": [
    "from sklearn.model_selection import train_test_split"
   ]
  },
  {
   "cell_type": "markdown",
   "id": "d48bea5f",
   "metadata": {},
   "source": [
    "**The features 'R&D Spend', 'Administration', and 'Marketing Spend' will be the INDEPENDENT variables which will be denoted as 'X'. The 'Profit' feature which we have to predict will be the DEPENDENT/TARGET variable, denoted by 'y'**"
   ]
  },
  {
   "cell_type": "code",
   "execution_count": 13,
   "id": "e67c8da1",
   "metadata": {
    "scrolled": false
   },
   "outputs": [],
   "source": [
    "X = df.drop('Profit',axis=1)\n",
    "y = df['Profit']"
   ]
  },
  {
   "cell_type": "code",
   "execution_count": 14,
   "id": "ef008285",
   "metadata": {
    "scrolled": false
   },
   "outputs": [],
   "source": [
    "X_train, X_test, y_train, y_test = train_test_split(X, y, test_size=0.3, random_state=133)"
   ]
  },
  {
   "cell_type": "markdown",
   "id": "c79e4090",
   "metadata": {},
   "source": [
    "**70% of the data has been considered for training and the remaining 30% will be taken for testing**"
   ]
  },
  {
   "cell_type": "markdown",
   "id": "fb1e75fa",
   "metadata": {},
   "source": [
    "#### Normalization is a technique often applied as part of data preparation for machine learning. The goal of normalization is to change the values of numeric columns in the dataset to use a common scale, without distorting differences in the ranges of values or losing information."
   ]
  },
  {
   "cell_type": "markdown",
   "id": "d85c41fb",
   "metadata": {},
   "source": [
    "**The *MinMaxScaler* scales and translates each feature individually such that it is in the given range on the training set, e.g. between zero and one.**"
   ]
  },
  {
   "cell_type": "code",
   "execution_count": 15,
   "id": "83c42cc2",
   "metadata": {
    "scrolled": false
   },
   "outputs": [],
   "source": [
    "from sklearn.preprocessing import MinMaxScaler"
   ]
  },
  {
   "cell_type": "code",
   "execution_count": 16,
   "id": "93a3daef",
   "metadata": {
    "scrolled": false
   },
   "outputs": [],
   "source": [
    "scaler = MinMaxScaler()\n",
    "\n",
    "X_train = scaler.fit_transform(X_train)\n",
    "\n",
    "X_test = scaler.transform(X_test)"
   ]
  },
  {
   "cell_type": "code",
   "execution_count": 17,
   "id": "e2ca0ea8",
   "metadata": {
    "scrolled": false
   },
   "outputs": [
    {
     "data": {
      "text/plain": [
       "(35, 3)"
      ]
     },
     "execution_count": 17,
     "metadata": {},
     "output_type": "execute_result"
    }
   ],
   "source": [
    "X_train.shape"
   ]
  },
  {
   "cell_type": "code",
   "execution_count": 18,
   "id": "3e258e84",
   "metadata": {
    "scrolled": false
   },
   "outputs": [
    {
     "data": {
      "text/plain": [
       "(15, 3)"
      ]
     },
     "execution_count": 18,
     "metadata": {},
     "output_type": "execute_result"
    }
   ],
   "source": [
    "X_test.shape"
   ]
  },
  {
   "cell_type": "markdown",
   "id": "eb8e7b1a",
   "metadata": {},
   "source": [
    "## Applying Different Regression models"
   ]
  },
  {
   "cell_type": "markdown",
   "id": "0e213fb8",
   "metadata": {},
   "source": [
    "### Linear Regression"
   ]
  },
  {
   "cell_type": "code",
   "execution_count": 19,
   "id": "01f7eacb",
   "metadata": {
    "scrolled": false
   },
   "outputs": [
    {
     "data": {
      "text/plain": [
       "array([ 99198.89009551,  89581.5971395 ,  55934.30940368,  98639.88479257,\n",
       "       101530.90360069, 193699.36500286, 173028.01124955, 155491.34548564,\n",
       "        74504.98738787,  70264.81371062, 160646.59152104,  97355.73973719,\n",
       "       117114.34513125,  90443.06095883, 101368.10343898])"
      ]
     },
     "execution_count": 19,
     "metadata": {},
     "output_type": "execute_result"
    }
   ],
   "source": [
    "from sklearn.linear_model import LinearRegression\n",
    "lr = LinearRegression()\n",
    "lr.fit(X_train,y_train)\n",
    "lr_pred = lr.predict(X_test)\n",
    "lr_pred"
   ]
  },
  {
   "cell_type": "markdown",
   "id": "487ee2e3",
   "metadata": {},
   "source": [
    "### Lasso Regression"
   ]
  },
  {
   "cell_type": "code",
   "execution_count": 20,
   "id": "728e7102",
   "metadata": {
    "scrolled": false
   },
   "outputs": [
    {
     "data": {
      "text/plain": [
       "array([ 99201.95736633,  89570.36468636,  55928.98773446,  98646.73980368,\n",
       "       101539.38858423, 193693.98221405, 173018.78816115, 155486.72546609,\n",
       "        74505.01913133,  70262.09928591, 160647.25845316,  97364.77145894,\n",
       "       117112.44067799,  90436.91128311, 101380.89705909])"
      ]
     },
     "execution_count": 20,
     "metadata": {},
     "output_type": "execute_result"
    }
   ],
   "source": [
    "from sklearn.linear_model import Lasso\n",
    "lasso = Lasso()\n",
    "lasso.fit(X_train,y_train)\n",
    "lasso_pred = lasso.predict(X_test)\n",
    "lasso_pred"
   ]
  },
  {
   "cell_type": "markdown",
   "id": "2ea1087a",
   "metadata": {},
   "source": [
    "### RandomForest Regression"
   ]
  },
  {
   "cell_type": "code",
   "execution_count": 21,
   "id": "63c6cdd2",
   "metadata": {
    "scrolled": false
   },
   "outputs": [
    {
     "data": {
      "text/plain": [
       "array([106371.0892,  91017.7625,  68868.4204,  99612.0326, 106605.1052,\n",
       "       186963.1989, 168807.2912, 150107.8229,  82335.0533,  76284.8854,\n",
       "       153582.0672, 101354.369 , 113824.4857,  91026.738 , 106171.7728])"
      ]
     },
     "execution_count": 21,
     "metadata": {},
     "output_type": "execute_result"
    }
   ],
   "source": [
    "from sklearn.ensemble import RandomForestRegressor\n",
    "rr = RandomForestRegressor()\n",
    "rr.fit(X_train,y_train)\n",
    "rr_pred = rr.predict(X_test)\n",
    "rr_pred"
   ]
  },
  {
   "cell_type": "markdown",
   "id": "0867da63",
   "metadata": {},
   "source": [
    "### Ridge Regression"
   ]
  },
  {
   "cell_type": "code",
   "execution_count": 22,
   "id": "27423493",
   "metadata": {
    "scrolled": false
   },
   "outputs": [
    {
     "data": {
      "text/plain": [
       "array([ 95727.7433766 ,  90881.07211685,  82660.82791144,  93651.52523898,\n",
       "       101661.22498175, 181181.25310566, 157256.88401969, 143974.97119532,\n",
       "        86153.10352375,  79842.15251454, 151792.40463344,  97802.70020072,\n",
       "       118787.33370086,  95076.46302432, 105009.76939693])"
      ]
     },
     "execution_count": 22,
     "metadata": {},
     "output_type": "execute_result"
    }
   ],
   "source": [
    "from sklearn.linear_model import Ridge\n",
    "ridge = Ridge()\n",
    "ridge.fit(X_train,y_train)\n",
    "ridge_pred = ridge.predict(X_test)\n",
    "ridge_pred"
   ]
  },
  {
   "cell_type": "markdown",
   "id": "1fee0c4e",
   "metadata": {},
   "source": [
    "### Support Vector Regression"
   ]
  },
  {
   "cell_type": "code",
   "execution_count": 23,
   "id": "dfa1a4bd",
   "metadata": {
    "scrolled": false
   },
   "outputs": [
    {
     "data": {
      "text/plain": [
       "array([110344.97637162, 110345.9148492 , 110345.92753316, 110345.17583559,\n",
       "       110347.20915882, 110353.01196767, 110353.99135254, 110355.682779  ,\n",
       "       110343.5449222 , 110342.69421834, 110356.21485427, 110346.4590715 ,\n",
       "       110351.96180047, 110345.0378511 , 110348.32035533])"
      ]
     },
     "execution_count": 23,
     "metadata": {},
     "output_type": "execute_result"
    }
   ],
   "source": [
    "from sklearn.svm import SVR\n",
    "svr = SVR()\n",
    "svr.fit(X_train,y_train)\n",
    "svr_pred = svr.predict(X_test)\n",
    "svr_pred"
   ]
  },
  {
   "cell_type": "markdown",
   "id": "128cbdd7",
   "metadata": {},
   "source": [
    "### XGBoost Regression"
   ]
  },
  {
   "cell_type": "code",
   "execution_count": 24,
   "id": "4a874184",
   "metadata": {
    "scrolled": false
   },
   "outputs": [
    {
     "name": "stdout",
     "output_type": "stream",
     "text": [
      "[18:02:51] WARNING: c:\\ci\\xgboost-split_1638290375667\\work\\src\\objective\\regression_obj.cu:188: reg:linear is now deprecated in favor of reg:squarederror.\n"
     ]
    },
    {
     "data": {
      "text/plain": [
       "array([103146.875,  97967.62 ,  61954.594, 100792.92 , 101224.29 ,\n",
       "       171073.12 , 171073.12 , 146316.69 ,  79656.88 ,  73492.82 ,\n",
       "       148318.27 ,  98118.9  , 108055.52 ,  99711.81 , 100300.84 ],\n",
       "      dtype=float32)"
      ]
     },
     "execution_count": 24,
     "metadata": {},
     "output_type": "execute_result"
    }
   ],
   "source": [
    "import xgboost as xg\n",
    "xgb_r = xg.XGBRegressor(objective ='reg:linear',n_estimators = 10, seed = 123)\n",
    "xgb_r.fit(X_train,y_train)\n",
    "xgb_pred = xgb_r.predict(X_test)\n",
    "xgb_pred"
   ]
  },
  {
   "cell_type": "markdown",
   "id": "3ec13497",
   "metadata": {},
   "source": [
    "## Evaluating different models"
   ]
  },
  {
   "cell_type": "code",
   "execution_count": 25,
   "id": "f737e2c8",
   "metadata": {
    "scrolled": false
   },
   "outputs": [],
   "source": [
    "from sklearn.metrics import explained_variance_score,r2_score,mean_absolute_error,mean_squared_error"
   ]
  },
  {
   "cell_type": "code",
   "execution_count": 26,
   "id": "2682bfa5",
   "metadata": {
    "scrolled": false
   },
   "outputs": [],
   "source": [
    "d = {\n",
    "    'Linear Regression':lr_pred,\n",
    "    'Lasso Regression':lasso_pred,\n",
    "    'Random Forest Regression':rr_pred,\n",
    "    'Ridge Regression':ridge_pred,\n",
    "    'Support Vector Regression':svr_pred,\n",
    "    'XGBoost Regression':xgb_pred\n",
    "}"
   ]
  },
  {
   "cell_type": "code",
   "execution_count": 27,
   "id": "604d3f3d",
   "metadata": {
    "scrolled": false
   },
   "outputs": [],
   "source": [
    "def evaluate(j):\n",
    "    print('\\tExplained Variance Score:',explained_variance_score(y_test,j))\n",
    "    print('\\tr2 Score:',r2_score(y_test,j))\n",
    "    print('\\tMAE:',mean_absolute_error(y_test,j))    \n",
    "    print('\\tMSE:',mean_squared_error(y_test,j))\n",
    "    print('\\tRMSE:',np.sqrt(mean_squared_error(y_test,j)))\n",
    "    print('\\tPERFORMANCE IN PERCENTAGE:',round(r2_score(y_test,j)*100, 3),'%')"
   ]
  },
  {
   "cell_type": "code",
   "execution_count": 28,
   "id": "a0fad725",
   "metadata": {
    "scrolled": false
   },
   "outputs": [
    {
     "name": "stdout",
     "output_type": "stream",
     "text": [
      "Linear Regression :\n",
      "\tExplained Variance Score: 0.9856948205069781\n",
      "\tr2 Score: 0.985665404027652\n",
      "\tMAE: 3407.7882304182326\n",
      "\tMSE: 20185119.74252503\n",
      "\tRMSE: 4492.785298957099\n",
      "\tPERFORMANCE IN PERCENTAGE: 98.567 %\n",
      "Lasso Regression :\n",
      "\tExplained Variance Score: 0.9857022699870942\n",
      "\tr2 Score: 0.9856729616606883\n",
      "\tMAE: 3407.023964516484\n",
      "\tMSE: 20174477.5362081\n",
      "\tRMSE: 4491.600776583789\n",
      "\tPERFORMANCE IN PERCENTAGE: 98.567 %\n",
      "Random Forest Regression :\n",
      "\tExplained Variance Score: 0.9663470206663806\n",
      "\tr2 Score: 0.9640148133407229\n",
      "\tMAE: 5290.918979999984\n",
      "\tMSE: 50672185.1858126\n",
      "\tRMSE: 7118.4397999711\n",
      "\tPERFORMANCE IN PERCENTAGE: 96.401 %\n",
      "Ridge Regression :\n",
      "\tExplained Variance Score: 0.9248333919194115\n",
      "\tr2 Score: 0.9247304722401055\n",
      "\tMAE: 6694.240156739538\n",
      "\tMSE: 105990042.11403073\n",
      "\tRMSE: 10295.146531935849\n",
      "\tPERFORMANCE IN PERCENTAGE: 92.473 %\n",
      "Support Vector Regression :\n",
      "\tExplained Variance Score: 0.00020169756109100767\n",
      "\tr2 Score: -0.0011276883108353175\n",
      "\tMAE: 30523.056494193275\n",
      "\tMSE: 1409728066.636357\n",
      "\tRMSE: 37546.34558297727\n",
      "\tPERFORMANCE IN PERCENTAGE: -0.113 %\n",
      "XGBoost Regression :\n",
      "\tExplained Variance Score: 0.9454829469115914\n",
      "\tr2 Score: 0.9448152391198114\n",
      "\tMAE: 6228.381374999999\n",
      "\tMSE: 77707875.9999929\n",
      "\tRMSE: 8815.207087754257\n",
      "\tPERFORMANCE IN PERCENTAGE: 94.482 %\n"
     ]
    }
   ],
   "source": [
    "for i,j in d.items():\n",
    "    print(i,':')\n",
    "    evaluate(j)"
   ]
  },
  {
   "cell_type": "markdown",
   "id": "329dec71",
   "metadata": {},
   "source": [
    "### From the above evaluation, it is seen that the *Lasso Regression* model performed the best, so we choose this model for further improvements"
   ]
  },
  {
   "cell_type": "markdown",
   "id": "22098471",
   "metadata": {},
   "source": [
    "The parameters for the Lasso model are changed to try to improve the performance"
   ]
  },
  {
   "cell_type": "markdown",
   "id": "9912d0a7",
   "metadata": {},
   "source": [
    "Here, α **alpha** is the parameter which balances the amount of emphasis given to minimizing RSS vs minimizing sum of square of coefficients."
   ]
  },
  {
   "cell_type": "markdown",
   "id": "717b5830",
   "metadata": {},
   "source": [
    "alpha can take various values: alpha = 0: \n",
    "The objective becomes same as simple linear regression"
   ]
  },
  {
   "cell_type": "code",
   "execution_count": 29,
   "id": "7e4bc0ce",
   "metadata": {},
   "outputs": [
    {
     "name": "stdout",
     "output_type": "stream",
     "text": [
      "(0.9873195073699734, 451)\n"
     ]
    }
   ],
   "source": [
    "# A loop to estimate the best value of alpha to get better score\n",
    "\n",
    "dic = dict()\n",
    "for i in range(1,1001):\n",
    "    lasso = Lasso(alpha = i)\n",
    "    lasso.fit(X_train,y_train)\n",
    "    lasso_pred = lasso.predict(X_test)\n",
    "    dic[r2_score(y_test,lasso_pred)] = i\n",
    "    \n",
    "print(max(dic.items()))"
   ]
  },
  {
   "cell_type": "code",
   "execution_count": 30,
   "id": "ff1269a9",
   "metadata": {},
   "outputs": [
    {
     "name": "stdout",
     "output_type": "stream",
     "text": [
      "\tExplained Variance Score: 0.9873362362741257\n",
      "\tr2 Score: 0.9873195073699734\n",
      "\tMAE: 3186.651383838799\n",
      "\tMSE: 17855910.457821324\n",
      "\tRMSE: 4225.62545167237\n",
      "\tPERFORMANCE IN PERCENTAGE: 98.732 %\n"
     ]
    }
   ],
   "source": [
    "lasso = Lasso(alpha = 451)\n",
    "lasso.fit(X_train,y_train)\n",
    "lasso_pred = lasso.predict(X_test)\n",
    "evaluate(lasso_pred)"
   ]
  },
  {
   "cell_type": "markdown",
   "id": "4d8fe3b1",
   "metadata": {},
   "source": [
    "### Setting the value of alpha = 451 gave the best performance with r2_score = 0.987319 (98.732 %)"
   ]
  },
  {
   "cell_type": "markdown",
   "id": "5891ef05",
   "metadata": {},
   "source": [
    "Let's evaluate the model by checking out it's intercept and coefficients and how we can interpret them."
   ]
  },
  {
   "cell_type": "code",
   "execution_count": 31,
   "id": "4cac3a56",
   "metadata": {},
   "outputs": [
    {
     "name": "stdout",
     "output_type": "stream",
     "text": [
      "49262.88329543811\n"
     ]
    }
   ],
   "source": [
    "print(lasso.intercept_)"
   ]
  },
  {
   "cell_type": "code",
   "execution_count": 32,
   "id": "6182c09e",
   "metadata": {
    "scrolled": false
   },
   "outputs": [
    {
     "data": {
      "text/html": [
       "<div>\n",
       "<style scoped>\n",
       "    .dataframe tbody tr th:only-of-type {\n",
       "        vertical-align: middle;\n",
       "    }\n",
       "\n",
       "    .dataframe tbody tr th {\n",
       "        vertical-align: top;\n",
       "    }\n",
       "\n",
       "    .dataframe thead th {\n",
       "        text-align: right;\n",
       "    }\n",
       "</style>\n",
       "<table border=\"1\" class=\"dataframe\">\n",
       "  <thead>\n",
       "    <tr style=\"text-align: right;\">\n",
       "      <th></th>\n",
       "      <th>Coefficient</th>\n",
       "    </tr>\n",
       "  </thead>\n",
       "  <tbody>\n",
       "    <tr>\n",
       "      <th>R&amp;D Spend</th>\n",
       "      <td>127438.771874</td>\n",
       "    </tr>\n",
       "    <tr>\n",
       "      <th>Administration</th>\n",
       "      <td>-0.000000</td>\n",
       "    </tr>\n",
       "    <tr>\n",
       "      <th>Marketing Spend</th>\n",
       "      <td>10549.652703</td>\n",
       "    </tr>\n",
       "  </tbody>\n",
       "</table>\n",
       "</div>"
      ],
      "text/plain": [
       "                   Coefficient\n",
       "R&D Spend        127438.771874\n",
       "Administration       -0.000000\n",
       "Marketing Spend   10549.652703"
      ]
     },
     "execution_count": 32,
     "metadata": {},
     "output_type": "execute_result"
    }
   ],
   "source": [
    "# A dataframe of coefficients\n",
    "coeff_df = pd.DataFrame(lasso.coef_,X.columns,columns=['Coefficient'])\n",
    "coeff_df"
   ]
  },
  {
   "cell_type": "markdown",
   "id": "20d6e915",
   "metadata": {},
   "source": [
    "Interpreting the coefficients:\n",
    "\n",
    "- Holding all other features fixed, a 1 unit increase in **R&D Spend** is associated with an **increase of 127438.771874** units in Profit.\n",
    "- Holding all other features fixed, a 1 unit increase in **Administration** is associated with **no increase** (0 units in Profit).\n",
    "- Holding all other features fixed, a 1 unit increase in **Marketing Spend** is associated with an **increase of 10549.652703** units in Profit."
   ]
  },
  {
   "cell_type": "markdown",
   "id": "bd308a6f",
   "metadata": {},
   "source": [
    "#### The **lmplot**, plots data and regression model across a FacetGrid."
   ]
  },
  {
   "cell_type": "code",
   "execution_count": 33,
   "id": "b2358ea7",
   "metadata": {
    "scrolled": false
   },
   "outputs": [],
   "source": [
    "# A Dataframe for y_test and predications from the lasso model\n",
    "eval_df = pd.DataFrame(data={'y_test':y_test, 'lasso_pred':lasso_pred})"
   ]
  },
  {
   "cell_type": "code",
   "execution_count": 34,
   "id": "456b69a9",
   "metadata": {
    "scrolled": false
   },
   "outputs": [
    {
     "data": {
      "text/plain": [
       "<seaborn.axisgrid.FacetGrid at 0x1a5d276b2e0>"
      ]
     },
     "execution_count": 34,
     "metadata": {},
     "output_type": "execute_result"
    },
    {
     "data": {
      "image/png": "[encoded data removed]",
      "text/plain": [
       "<Figure size 360x360 with 1 Axes>"
      ]
     },
     "metadata": {},
     "output_type": "display_data"
    }
   ],
   "source": [
    "sns.set_theme(color_codes=True)\n",
    "sns.lmplot(y='y_test',x='lasso_pred',data=eval_df)"
   ]
  },
  {
   "cell_type": "markdown",
   "id": "68c1ba5d",
   "metadata": {},
   "source": [
    "**Residual Histogram**"
   ]
  },
  {
   "cell_type": "code",
   "execution_count": 35,
   "id": "4ade24e9",
   "metadata": {
    "scrolled": false
   },
   "outputs": [
    {
     "data": {
      "image/png": "[encoded data removed]",
      "text/plain": [
       "<Figure size 432x288 with 1 Axes>"
      ]
     },
     "metadata": {},
     "output_type": "display_data"
    }
   ],
   "source": [
    "sns.distplot((y_test-lasso_pred),bins=10);"
   ]
  },
  {
   "cell_type": "code",
   "execution_count": null,
   "id": "8f9be4a7",
   "metadata": {},
   "outputs": [],
   "source": []
  }
 ],
 "metadata": {
  "kernelspec": {
   "display_name": "Python 3 (ipykernel)",
   "language": "python",
   "name": "python3"
  },
  "language_info": {
   "codemirror_mode": {
    "name": "ipython",
    "version": 3
   },
   "file_extension": ".py",
   "mimetype": "text/x-python",
   "name": "python",
   "nbconvert_exporter": "python",
   "pygments_lexer": "ipython3",
   "version": "3.8.5"
  }
 },
 "nbformat": 4,
 "nbformat_minor": 5
}
